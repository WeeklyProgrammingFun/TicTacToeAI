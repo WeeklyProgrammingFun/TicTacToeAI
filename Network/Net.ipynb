{
 "cells": [
  {
   "cell_type": "code",
   "execution_count": 9,
   "metadata": {},
   "outputs": [],
   "source": [
    "import torch\n",
    "import torch.nn as nn\n",
    "from torch.utils.data import Dataset, DataLoader\n",
    "import numpy as np"
   ]
  },
  {
   "cell_type": "code",
   "execution_count": 52,
   "metadata": {},
   "outputs": [],
   "source": [
    "class ToeDataset(Dataset):\n",
    "    def __init__(self,filename):\n",
    "        # list of 9 tuples, each a board state: 0=blank,1=X, -1=O\n",
    "        #samples = [] \n",
    "        # list of good replies, 0 = bad, 1 = good\n",
    "        #truth   = [] \n",
    "        \n",
    "        self.data = torch.from_numpy(\n",
    "            np.genfromtxt(filename, delimiter=\",\",dtype=np.float32)\n",
    "            ) \n",
    "        print(self.data)#.shape())\n",
    "        print(self.data.size()[0])\n",
    "    def __len__(self):\n",
    "        return self.data.size()[0]\n",
    "    def __getitem__(self,index):\n",
    "        d = self.data[index]\n",
    "        sample = {'state' : d[0:9], 'moves': d[9:18] }\n",
    "        return sample\n",
    "        \n",
    "        "
   ]
  },
  {
   "cell_type": "code",
   "execution_count": 42,
   "metadata": {},
   "outputs": [
    {
     "name": "stdout",
     "output_type": "stream",
     "text": [
      "tensor([[ 0.,  0.,  0.,  ...,  1.,  1., nan],\n",
      "        [ 1.,  0.,  0.,  ...,  0.,  0., nan],\n",
      "        [ 0.,  1.,  0.,  ...,  1.,  0., nan],\n",
      "        ...,\n",
      "        [ 0., -1., -1.,  ...,  0.,  0., nan],\n",
      "        [ 0., -1., -1.,  ...,  0.,  0., nan],\n",
      "        [ 0., -1., -1.,  ...,  0.,  0., nan]])\n",
      "4520\n"
     ]
    }
   ],
   "source": [
    "fn = 'TicTacToeData.txt'\n",
    "ds = ToeDataset(fn)"
   ]
  },
  {
   "cell_type": "code",
   "execution_count": 43,
   "metadata": {},
   "outputs": [
    {
     "data": {
      "text/plain": [
       "{'state': tensor([0., 0., 0., 0., 0., 0., 0., 0.]),\n",
       " 'moves': tensor([1., 1., 1., 1., 1., 1., 1., 1.])}"
      ]
     },
     "execution_count": 43,
     "metadata": {},
     "output_type": "execute_result"
    }
   ],
   "source": [
    "ds[0]"
   ]
  },
  {
   "cell_type": "code",
   "execution_count": 44,
   "metadata": {},
   "outputs": [
    {
     "data": {
      "text/plain": [
       "{'state': tensor([1., 0., 0., 0., 0., 0., 0., 0.]),\n",
       " 'moves': tensor([0., 0., 0., 0., 1., 0., 0., 0.])}"
      ]
     },
     "execution_count": 44,
     "metadata": {},
     "output_type": "execute_result"
    }
   ],
   "source": [
    "ds[1]"
   ]
  },
  {
   "cell_type": "code",
   "execution_count": 72,
   "metadata": {},
   "outputs": [],
   "source": [
    "class AI_1(nn.Module):\n",
    "    def __init__(self):\n",
    "        super(AI_1, self).__init__()\n",
    "        \n",
    "        board_size = 9\n",
    "        internal1 = 5000 # big enough to memorize 4500ish entries\n",
    "        self.net = nn.Sequential(\n",
    "            nn.Linear(board_size, internal1),\n",
    "            \n",
    "            nn.ReLU(),\n",
    "            \n",
    "            # nn.Linear(internal1, internal1),\n",
    "            \n",
    "            # nn.ReLU(),\n",
    "\n",
    "            nn.Linear(internal1, board_size)                      \n",
    "            );\n",
    "    def forward(self, in_data):\n",
    "        x = self.net(in_data)\n",
    "        return x"
   ]
  },
  {
   "cell_type": "code",
   "execution_count": 47,
   "metadata": {},
   "outputs": [
    {
     "name": "stdout",
     "output_type": "stream",
     "text": [
      "cuda:0\n"
     ]
    },
    {
     "data": {
      "text/plain": [
       "AI_1(\n",
       "  (net): Sequential(\n",
       "    (0): Linear(in_features=9, out_features=5000, bias=True)\n",
       "    (1): ReLU()\n",
       "    (2): Linear(in_features=5000, out_features=5000, bias=True)\n",
       "    (3): ReLU()\n",
       "    (4): Linear(in_features=5000, out_features=9, bias=True)\n",
       "  )\n",
       ")"
      ]
     },
     "execution_count": 47,
     "metadata": {},
     "output_type": "execute_result"
    }
   ],
   "source": [
    "net1 = AI_1()\n",
    "device = torch.device(\"cuda:0\" if torch.cuda.is_available() else \"cpu\") # Get the cuda device\n",
    "print(device)\n",
    "net1.to(device)"
   ]
  },
  {
   "cell_type": "code",
   "execution_count": 79,
   "metadata": {},
   "outputs": [],
   "source": [
    "def train():\n",
    "    net = AI_1().to(device)\n",
    "    fn = 'TicTacToeData.txt'\n",
    "    dataset = ToeDataset(fn)\n",
    "    loader = DataLoader(dataset, shuffle=True, batch_size = 300)\n",
    "    \n",
    "    loss_func = nn.MSELoss()\n",
    "    optimizer = torch.optim.Adam(net.parameters(),lr=0.001)\n",
    "    \n",
    "    for epoch in range(10):\n",
    "        dataiter = iter(loader)\n",
    "        \n",
    "        epoch_loss = 0\n",
    "        \n",
    "        for batch in dataiter:\n",
    "            optimizer.zero_grad()\n",
    "            \n",
    "            out = net(batch['state'].to(device))\n",
    "            \n",
    "            loss = loss_func(out, batch['moves'].to(device))\n",
    "            epoch_loss += loss.item()\n",
    "            \n",
    "            loss.backward()            \n",
    "            \n",
    "            optimizer.step()\n",
    "            \n",
    "        print(epoch_loss)\n",
    "        \n",
    "        \n",
    "    sample = dataset[100]\n",
    "    print(sample)\n",
    "    out1 = net(sample['state'].to(device))\n",
    "    print(out1)\n",
    "            "
   ]
  },
  {
   "cell_type": "code",
   "execution_count": 80,
   "metadata": {},
   "outputs": [
    {
     "name": "stdout",
     "output_type": "stream",
     "text": [
      "tensor([[ 0.,  0.,  0.,  ...,  1.,  1., nan],\n",
      "        [ 1.,  0.,  0.,  ...,  0.,  0., nan],\n",
      "        [ 0.,  1.,  0.,  ...,  1.,  0., nan],\n",
      "        ...,\n",
      "        [ 0., -1., -1.,  ...,  0.,  0., nan],\n",
      "        [ 0., -1., -1.,  ...,  0.,  0., nan],\n",
      "        [ 0., -1., -1.,  ...,  0.,  0., nan]])\n",
      "4520\n",
      "4.289491653442383\n",
      "2.223676398396492\n",
      "1.7022705748677254\n",
      "1.4790069311857224\n",
      "1.3654517456889153\n",
      "1.3384049534797668\n",
      "1.3200587257742882\n",
      "1.2834888771176338\n",
      "1.2523611038923264\n",
      "1.2783765569329262\n",
      "{'state': tensor([ 1.,  0.,  0., -1.,  0.,  0.,  1.,  0.,  0.]), 'moves': tensor([0., 0., 0., 0., 1., 0., 0., 0., 0.])}\n",
      "tensor([-0.0677,  0.4809,  0.4942,  0.0441,  0.8472,  0.4570, -0.1083,  0.4579,\n",
      "         0.5247], device='cuda:0', grad_fn=<AddBackward0>)\n"
     ]
    }
   ],
   "source": [
    "train()"
   ]
  },
  {
   "cell_type": "code",
   "execution_count": null,
   "metadata": {},
   "outputs": [],
   "source": []
  }
 ],
 "metadata": {
  "kernelspec": {
   "display_name": "Python 3",
   "language": "python",
   "name": "python3"
  },
  "language_info": {
   "codemirror_mode": {
    "name": "ipython",
    "version": 3
   },
   "file_extension": ".py",
   "mimetype": "text/x-python",
   "name": "python",
   "nbconvert_exporter": "python",
   "pygments_lexer": "ipython3",
   "version": "3.7.6"
  }
 },
 "nbformat": 4,
 "nbformat_minor": 4
}
